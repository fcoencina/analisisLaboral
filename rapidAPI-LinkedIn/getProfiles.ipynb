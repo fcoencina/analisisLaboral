{
 "cells": [
  {
   "cell_type": "markdown",
   "metadata": {},
   "source": [
    "# Librerías utilizadas"
   ]
  },
  {
   "cell_type": "code",
   "execution_count": 18,
   "metadata": {},
   "outputs": [],
   "source": [
    "import requests;\n",
    "import pandas as pd;"
   ]
  },
  {
   "cell_type": "markdown",
   "metadata": {},
   "source": [
    "# 100 Apellidos más comunes en Chile\n",
    "https://www.cnnchile.com/pais/cuales-100-apellidos-mas-inscritos-chile_20240408/"
   ]
  },
  {
   "cell_type": "code",
   "execution_count": 19,
   "metadata": {},
   "outputs": [],
   "source": [
    "lastNames = ['González', 'Muñoz', 'Rojas', 'Díaz', 'Pérez', 'Contreras', 'Soto', 'Silva', 'Morales',\n",
    " 'Flores', 'Torres', 'Sepúlveda', 'Castillo', 'Martínez', 'Fuentes', 'Rodríguez', 'Espinoza',\n",
    " 'López', 'Araya', 'Reyes', 'Castro', 'Hernández', 'Valenzuela', 'Vargas', 'Ramírez',\n",
    " 'Gutiérrez', 'Herrera', 'Álvarez', 'Vásquez', 'Tapia', 'Sánchez', 'Fernández', 'Carrasco',\n",
    " 'Cortés', 'Gómez', 'Jara', 'Vergara', 'Rivera', 'Núñez', 'Bravo', 'Figueroa', 'Riquelme',\n",
    " 'Molina', 'Vera', 'Sandoval', 'García', 'Vega', 'Miranda', 'Romero', 'Ortiz', 'Salazar',\n",
    " 'Campos', 'Orellana', 'Olivares', 'Garrido', 'Parra', 'Gallardo', 'Saavedra', 'Alarcón',\n",
    " 'Aguilera', 'Peña', 'Zúñiga', 'Ruiz', 'Medina', 'Guzmán', 'Escobar', 'Navarro', 'Pizarro',\n",
    " 'Godoy', 'Cáceres', 'Henríquez', 'Aravena', 'Moreno', 'Leiva', 'Salinas', 'Vidal', 'Lagos',\n",
    " 'Valdés', 'Ramos', 'Maldonado', 'Jiménez', 'Yáñez', 'Bustos', 'Ortega', 'Palma', 'Carvajal',\n",
    " 'Pino', 'Alvarado', 'Paredes', 'Rodríguez', 'Guerrero', 'Mora', 'Poblete', 'Sáez', 'Venegas',\n",
    " 'Sanhueza', 'Bustamante', 'Toro', 'Navarrete', 'Cárdenas'];"
   ]
  },
  {
   "cell_type": "markdown",
   "metadata": {},
   "source": [
    "# Obtención de perfiles"
   ]
  },
  {
   "cell_type": "code",
   "execution_count": null,
   "metadata": {},
   "outputs": [],
   "source": [
    "urlSearchPeople = \"https://linkedin-data-api.p.rapidapi.com/search-people\";\n",
    "headers = {\n",
    "\t\"x-rapidapi-key\": \"9fac0107d1msh08c27862e48e85fp15900bjsn5aab036d6b2d\",\n",
    "\t\"x-rapidapi-host\": \"linkedin-data-api.p.rapidapi.com\"\n",
    "};\n",
    "\n",
    "querystring = {\"keywords\":f'{lastNames[8]}',\"start\":\"20\",\"geo\":\"104621616\"};\n",
    "\n",
    "response = requests.get(urlSearchPeople, headers=headers, params=querystring);\n",
    "people = response.json()['data']['items'];\n",
    "\n",
    "urlGetProfile = \"https://linkedin-data-api.p.rapidapi.com/get-profile-data-by-url\";\n",
    "data = [];\n",
    "for person in people:\n",
    "    profileURL = person[\"profileURL\"];\n",
    "    query = {\"url\": f\"{profileURL}\"};\n",
    "    res = requests.get(urlGetProfile, headers=headers, params=query);\n",
    "    dicc = {\n",
    "        \"username\": res.json()[\"username\"],\n",
    "        \"firstName\": res.json()[\"firstName\"],\n",
    "        \"lastName\": res.json()[\"lastName\"],\n",
    "        \"languages\": res.json()[\"languages\"],\n",
    "        \"educations\": res.json()[\"educations\"],\n",
    "        \"position\": res.json()[\"position\"],\n",
    "        \"skills\":  res.json()[\"skills\"],\n",
    "        \"courses\": res.json()[\"courses\"],\n",
    "        \"certifications\": res.json()[\"certifications\"],\n",
    "        \"projects\": res.json()[\"projects\"]\n",
    "    };\n",
    "\n",
    "    data.append(dicc);\n",
    "\n",
    "\n",
    "df = pd.DataFrame(data);\n",
    "df.to_csv('chileProfiles.csv', index=False);"
   ]
  }
 ],
 "metadata": {
  "kernelspec": {
   "display_name": "SEM_TEL",
   "language": "python",
   "name": "python3"
  },
  "language_info": {
   "codemirror_mode": {
    "name": "ipython",
    "version": 3
   },
   "file_extension": ".py",
   "mimetype": "text/x-python",
   "name": "python",
   "nbconvert_exporter": "python",
   "pygments_lexer": "ipython3",
   "version": "3.12.5"
  }
 },
 "nbformat": 4,
 "nbformat_minor": 2
}
